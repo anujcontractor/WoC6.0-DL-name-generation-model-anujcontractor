{
  "nbformat": 4,
  "nbformat_minor": 0,
  "metadata": {
    "colab": {
      "provenance": []
    },
    "kernelspec": {
      "name": "python3",
      "display_name": "Python 3"
    },
    "language_info": {
      "name": "python"
    }
  },
  "cells": [
    {
      "cell_type": "code",
      "execution_count": 1,
      "metadata": {
        "id": "VfnRNVD2e07w"
      },
      "outputs": [],
      "source": [
        "import string"
      ]
    },
    {
      "cell_type": "code",
      "source": [
        "file_path = \"dataset.txt\"\n",
        "with open(file_path, 'r', encoding='utf-8') as file:\n",
        "    dataset = file.read().splitlines()"
      ],
      "metadata": {
        "id": "FBxyhbO3e29U"
      },
      "execution_count": 7,
      "outputs": []
    },
    {
      "cell_type": "code",
      "source": [
        "def create_char_level_dicts(data):\n",
        "\n",
        "    char_to_index = {}\n",
        "    index_to_char = {}\n",
        "\n",
        "    special_char = '<END>'\n",
        "    char_set = set(''.join(data))\n",
        "    char_set.add(special_char)\n",
        "\n",
        "    for idx, char in enumerate(char_set):\n",
        "        char_to_index[char] = idx\n",
        "        index_to_char[idx] = char\n",
        "\n",
        "    return char_to_index, index_to_char"
      ],
      "metadata": {
        "id": "zVGy1XPme5X9"
      },
      "execution_count": 3,
      "outputs": []
    },
    {
      "cell_type": "code",
      "source": [
        "char_to_index, index_to_char = create_char_level_dicts(dataset)"
      ],
      "metadata": {
        "id": "nSfk36hre_rP"
      },
      "execution_count": 8,
      "outputs": []
    },
    {
      "cell_type": "code",
      "source": [
        "print(\"Character to Index Dictionary:\")\n",
        "print(char_to_index)\n",
        "\n",
        "print(\"\\nIndex to Character Dictionary:\")\n",
        "print(index_to_char)"
      ],
      "metadata": {
        "colab": {
          "base_uri": "https://localhost:8080/"
        },
        "id": "0N7Eow12fDBo",
        "outputId": "20082bea-0801-4ab2-f73f-c6ce123279fb"
      },
      "execution_count": 9,
      "outputs": [
        {
          "output_type": "stream",
          "name": "stdout",
          "text": [
            "Character to Index Dictionary:\n",
            "{'w': 0, 'F': 1, 'Q': 2, '³': 3, '¤': 4, 'b': 5, 'C': 6, '…': 7, 'p': 8, 'h': 9, 'W': 10, '«': 11, 'k': 12, 'i': 13, 'S': 14, 'r': 15, 'V': 16, 'Ã': 17, 'Z': 18, 'œ': 19, 't': 20, 'A': 21, 'P': 22, 'q': 23, 'Y': 24, 'B': 25, 'D': 26, 'v': 27, 'f': 28, 'x': 29, 'u': 30, 'L': 31, 'K': 32, 'M': 33, 'N': 34, '“': 35, 's': 36, 'o': 37, 'I': 38, '-': 39, 'd': 40, ' ': 41, 'n': 42, '<END>': 43, 'a': 44, 'g': 45, '¼': 46, 'X': 47, 'z': 48, 'm': 49, 'ª': 50, '©': 51, '¢': 52, 'j': 53, '¨': 54, 'c': 55, 'l': 56, 'y': 57, 'J': 58, 'R': 59, 'O': 60, 'G': 61, '¶': 62, '¥': 63, 'H': 64, 'e': 65, '¡': 66, 'E': 67, 'T': 68, 'U': 69}\n",
            "\n",
            "Index to Character Dictionary:\n",
            "{0: 'w', 1: 'F', 2: 'Q', 3: '³', 4: '¤', 5: 'b', 6: 'C', 7: '…', 8: 'p', 9: 'h', 10: 'W', 11: '«', 12: 'k', 13: 'i', 14: 'S', 15: 'r', 16: 'V', 17: 'Ã', 18: 'Z', 19: 'œ', 20: 't', 21: 'A', 22: 'P', 23: 'q', 24: 'Y', 25: 'B', 26: 'D', 27: 'v', 28: 'f', 29: 'x', 30: 'u', 31: 'L', 32: 'K', 33: 'M', 34: 'N', 35: '“', 36: 's', 37: 'o', 38: 'I', 39: '-', 40: 'd', 41: ' ', 42: 'n', 43: '<END>', 44: 'a', 45: 'g', 46: '¼', 47: 'X', 48: 'z', 49: 'm', 50: 'ª', 51: '©', 52: '¢', 53: 'j', 54: '¨', 55: 'c', 56: 'l', 57: 'y', 58: 'J', 59: 'R', 60: 'O', 61: 'G', 62: '¶', 63: '¥', 64: 'H', 65: 'e', 66: '¡', 67: 'E', 68: 'T', 69: 'U'}\n"
          ]
        }
      ]
    },
    {
      "cell_type": "code",
      "source": [],
      "metadata": {
        "id": "YgMTmAsmfFhW"
      },
      "execution_count": null,
      "outputs": []
    }
  ]
}