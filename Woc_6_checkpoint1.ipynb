{
  "nbformat": 4,
  "nbformat_minor": 0,
  "metadata": {
    "colab": {
      "provenance": []
    },
    "kernelspec": {
      "name": "python3",
      "display_name": "Python 3"
    },
    "language_info": {
      "name": "python"
    }
  },
  "cells": [
    {
      "cell_type": "code",
      "execution_count": null,
      "metadata": {
        "id": "WLmD5R3UO0bs"
      },
      "outputs": [],
      "source": [
        "import numpy as np"
      ]
    },
    {
      "cell_type": "markdown",
      "source": [
        "np.array()"
      ],
      "metadata": {
        "id": "gzuXgfzrPJ__"
      }
    },
    {
      "cell_type": "code",
      "source": [
        "arr = np.array([1,2,3,4,5])\n",
        "print(\"array:\", arr)"
      ],
      "metadata": {
        "id": "IKCIHNvfPPO8",
        "outputId": "949d4484-a21e-4c17-df13-a3ab69627602",
        "colab": {
          "base_uri": "https://localhost:8080/"
        }
      },
      "execution_count": 3,
      "outputs": [
        {
          "output_type": "stream",
          "name": "stdout",
          "text": [
            "array: [1 2 3 4 5]\n"
          ]
        }
      ]
    },
    {
      "cell_type": "markdown",
      "source": [
        "np.zeros()"
      ],
      "metadata": {
        "id": "f9NvpOeiPaLo"
      }
    },
    {
      "cell_type": "code",
      "source": [
        "arr_zeros = np.zeros((3,4))\n",
        "print(\"arr_zroes[]:\",arr_zeros)"
      ],
      "metadata": {
        "id": "oxuBPlvQPX4q",
        "outputId": "126b3690-4877-480d-8ecd-4b25fbe51038",
        "colab": {
          "base_uri": "https://localhost:8080/"
        }
      },
      "execution_count": 4,
      "outputs": [
        {
          "output_type": "stream",
          "name": "stdout",
          "text": [
            "arr_zroes[]: [[0. 0. 0. 0.]\n",
            " [0. 0. 0. 0.]\n",
            " [0. 0. 0. 0.]]\n"
          ]
        }
      ]
    },
    {
      "cell_type": "markdown",
      "source": [
        "np.ones()"
      ],
      "metadata": {
        "id": "uzITQaKXPpPr"
      }
    },
    {
      "cell_type": "code",
      "source": [
        "arr_ones = np.ones((2,3))\n",
        "print(\"arr_ones[]:\", arr_ones)"
      ],
      "metadata": {
        "id": "UKHv5RHXPm4r",
        "outputId": "650dce04-ae24-400c-fa3b-7f9066ed5ef0",
        "colab": {
          "base_uri": "https://localhost:8080/"
        }
      },
      "execution_count": 5,
      "outputs": [
        {
          "output_type": "stream",
          "name": "stdout",
          "text": [
            "arr_ones[]: [[1. 1. 1.]\n",
            " [1. 1. 1.]]\n"
          ]
        }
      ]
    },
    {
      "cell_type": "markdown",
      "source": [
        "np.reshape()"
      ],
      "metadata": {
        "id": "3GtA_IluPy8V"
      }
    },
    {
      "cell_type": "code",
      "source": [
        "reshaped_arr = np.reshape(arr,(5,1))\n",
        "print(\"reshaped arr:\", reshaped_arr)"
      ],
      "metadata": {
        "id": "XIK879NXPx2H",
        "outputId": "089e60d2-f869-4ea6-997d-a109a1af050d",
        "colab": {
          "base_uri": "https://localhost:8080/"
        }
      },
      "execution_count": 6,
      "outputs": [
        {
          "output_type": "stream",
          "name": "stdout",
          "text": [
            "reshaped arr: [[1]\n",
            " [2]\n",
            " [3]\n",
            " [4]\n",
            " [5]]\n"
          ]
        }
      ]
    },
    {
      "cell_type": "markdown",
      "source": [
        "np.concatenate()"
      ],
      "metadata": {
        "id": "4Oo9ZkV0P_2R"
      }
    },
    {
      "cell_type": "code",
      "source": [
        "concatenated_arr = np.concatenate((arr,arr))\n",
        "print(\"concatenated:\", concatenated_arr)"
      ],
      "metadata": {
        "id": "k4eAyDnnP_CF",
        "outputId": "d9c8f80a-2eaf-41c6-8a76-09f69d10bdab",
        "colab": {
          "base_uri": "https://localhost:8080/"
        }
      },
      "execution_count": 7,
      "outputs": [
        {
          "output_type": "stream",
          "name": "stdout",
          "text": [
            "concatenated: [1 2 3 4 5 1 2 3 4 5]\n"
          ]
        }
      ]
    },
    {
      "cell_type": "markdown",
      "source": [
        "np.mean()"
      ],
      "metadata": {
        "id": "DmGwBPbXQOlk"
      }
    },
    {
      "cell_type": "code",
      "source": [
        "mean_value = np.mean(arr)\n",
        "print(\"mean:\" , mean_value)"
      ],
      "metadata": {
        "id": "9CL4PzCXQNE7",
        "outputId": "c82dd7c8-ec67-45c9-db14-17201da1fee6",
        "colab": {
          "base_uri": "https://localhost:8080/"
        }
      },
      "execution_count": 8,
      "outputs": [
        {
          "output_type": "stream",
          "name": "stdout",
          "text": [
            "mean: 3.0\n"
          ]
        }
      ]
    },
    {
      "cell_type": "markdown",
      "source": [
        "np.sum()"
      ],
      "metadata": {
        "id": "osI9ntUSQWal"
      }
    },
    {
      "cell_type": "code",
      "source": [
        "sum_value = np.sum(arr)\n",
        "print(\"sum:\", sum_value)"
      ],
      "metadata": {
        "id": "VVfUrsMtQVg5",
        "outputId": "22361984-976a-4fe7-de4f-2fdd415fa686",
        "colab": {
          "base_uri": "https://localhost:8080/"
        }
      },
      "execution_count": 9,
      "outputs": [
        {
          "output_type": "stream",
          "name": "stdout",
          "text": [
            "sum: 15\n"
          ]
        }
      ]
    },
    {
      "cell_type": "markdown",
      "source": [
        "np.min()"
      ],
      "metadata": {
        "id": "hSwYffoLSEvw"
      }
    },
    {
      "cell_type": "code",
      "source": [
        "min_value = np.min(arr)\n",
        "print(\"min:\", min_value)"
      ],
      "metadata": {
        "id": "Wch3BsqZQcom",
        "outputId": "58ac982d-9973-46a5-f819-f824cee7c417",
        "colab": {
          "base_uri": "https://localhost:8080/"
        }
      },
      "execution_count": 10,
      "outputs": [
        {
          "output_type": "stream",
          "name": "stdout",
          "text": [
            "min 1\n"
          ]
        }
      ]
    },
    {
      "cell_type": "markdown",
      "source": [
        "np.max()"
      ],
      "metadata": {
        "id": "n5G1KKOSSGLW"
      }
    },
    {
      "cell_type": "code",
      "source": [
        "max_value = np.max(arr)\n",
        "print(\"max:\", max_value)"
      ],
      "metadata": {
        "id": "66028zWbQxrt",
        "outputId": "4be0a607-1429-41a5-d26f-f0b614c35041",
        "colab": {
          "base_uri": "https://localhost:8080/"
        }
      },
      "execution_count": 11,
      "outputs": [
        {
          "output_type": "stream",
          "name": "stdout",
          "text": [
            "max: 5\n"
          ]
        }
      ]
    },
    {
      "cell_type": "markdown",
      "source": [
        "np.argmin()"
      ],
      "metadata": {
        "id": "zPdvVp1oSIvc"
      }
    },
    {
      "cell_type": "code",
      "source": [
        "argmin_value = np.argmin(arr)\n",
        "print(\"argmin:\", argmin_value)"
      ],
      "metadata": {
        "id": "y8Ke23elQ3lK",
        "outputId": "964a906c-7158-4d8b-dc61-7486752d5317",
        "colab": {
          "base_uri": "https://localhost:8080/"
        }
      },
      "execution_count": 13,
      "outputs": [
        {
          "output_type": "stream",
          "name": "stdout",
          "text": [
            "argmin: 0\n"
          ]
        }
      ]
    },
    {
      "cell_type": "markdown",
      "source": [
        "np.argmax()"
      ],
      "metadata": {
        "id": "gIbW3nQMSKMY"
      }
    },
    {
      "cell_type": "code",
      "source": [
        "argmax_value = np.argmax(arr)\n",
        "print(\"argmax:\", argmax_value)"
      ],
      "metadata": {
        "id": "5q3rC0eIQ-yD",
        "outputId": "ec0e0193-15e5-4b3d-c4a0-4724f178bd45",
        "colab": {
          "base_uri": "https://localhost:8080/"
        }
      },
      "execution_count": 14,
      "outputs": [
        {
          "output_type": "stream",
          "name": "stdout",
          "text": [
            "argmax: 4\n"
          ]
        }
      ]
    },
    {
      "cell_type": "markdown",
      "source": [
        "np.random.rand()"
      ],
      "metadata": {
        "id": "RfZK3Yc5SMLm"
      }
    },
    {
      "cell_type": "code",
      "source": [
        "rand_arr = np.random.rand(3,3)\n",
        "print(\"ranodom arr\", rand_arr)"
      ],
      "metadata": {
        "id": "_xOozIrkRK9o",
        "outputId": "900da02d-9b89-4f1e-efb7-62eab60cfaae",
        "colab": {
          "base_uri": "https://localhost:8080/"
        }
      },
      "execution_count": 15,
      "outputs": [
        {
          "output_type": "stream",
          "name": "stdout",
          "text": [
            "ranodom arr [[0.33243869 0.16647653 0.60750776]\n",
            " [0.08839597 0.06935348 0.43074075]\n",
            " [0.54382086 0.11785977 0.89513139]]\n"
          ]
        }
      ]
    },
    {
      "cell_type": "markdown",
      "source": [
        "np.random.randn()"
      ],
      "metadata": {
        "id": "NVtpkzZJSOpN"
      }
    },
    {
      "cell_type": "code",
      "source": [
        "randn_arr = np.random.randn(2,2)\n",
        "print(\"randn arr\", randn_arr)"
      ],
      "metadata": {
        "id": "QSCqSGqtRUum",
        "outputId": "af4917d7-ff76-419a-f1c0-98dccc23af4a",
        "colab": {
          "base_uri": "https://localhost:8080/"
        }
      },
      "execution_count": 16,
      "outputs": [
        {
          "output_type": "stream",
          "name": "stdout",
          "text": [
            "randn arr [[ 0.60813682  1.04883659]\n",
            " [-0.42735013  0.41732091]]\n"
          ]
        }
      ]
    },
    {
      "cell_type": "markdown",
      "source": [
        "np.random.randint()"
      ],
      "metadata": {
        "id": "wOwnqsTlSRAl"
      }
    },
    {
      "cell_type": "code",
      "source": [
        "randint_arr = np.random.randint(1,10, size=(2,2))\n",
        "print(\"random int arr (with range [1,10] and size 2x2)\", randint_arr)"
      ],
      "metadata": {
        "id": "FM0ofKt2RdgC",
        "outputId": "f056e67c-5148-4aa9-aa63-187eb1c5ca38",
        "colab": {
          "base_uri": "https://localhost:8080/"
        }
      },
      "execution_count": 17,
      "outputs": [
        {
          "output_type": "stream",
          "name": "stdout",
          "text": [
            "random int arr (with range [1,10] and size 2x2) [[8 6]\n",
            " [1 2]]\n"
          ]
        }
      ]
    },
    {
      "cell_type": "markdown",
      "source": [
        "np.dot()"
      ],
      "metadata": {
        "id": "URPPTxTISTXn"
      }
    },
    {
      "cell_type": "code",
      "source": [
        "dot_product = np.dot(arr,arr)\n",
        "print(\"dotProduct:\", dot_product)"
      ],
      "metadata": {
        "id": "XK4yeC5nRwTP",
        "outputId": "f82c5c46-7c99-4d68-9add-eb93797ca58a",
        "colab": {
          "base_uri": "https://localhost:8080/"
        }
      },
      "execution_count": 20,
      "outputs": [
        {
          "output_type": "stream",
          "name": "stdout",
          "text": [
            "dotProduct: 55\n"
          ]
        }
      ]
    }
  ]
}